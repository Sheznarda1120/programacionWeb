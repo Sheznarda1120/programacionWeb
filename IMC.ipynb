{
  "nbformat": 4,
  "nbformat_minor": 0,
  "metadata": {
    "colab": {
      "provenance": [],
      "authorship_tag": "ABX9TyOlTmXjvqQXx9aJFR469v+m",
      "include_colab_link": true
    },
    "kernelspec": {
      "name": "python3",
      "display_name": "Python 3"
    },
    "language_info": {
      "name": "python"
    }
  },
  "cells": [
    {
      "cell_type": "markdown",
      "metadata": {
        "id": "view-in-github",
        "colab_type": "text"
      },
      "source": [
        "<a href=\"https://colab.research.google.com/github/Sheznarda1120/programacionWeb/blob/main/IMC.ipynb\" target=\"_parent\"><img src=\"https://colab.research.google.com/assets/colab-badge.svg\" alt=\"Open In Colab\"/></a>"
      ]
    },
    {
      "cell_type": "markdown",
      "source": [
        "Cálculo del indice de masa corporal\n"
      ],
      "metadata": {
        "id": "fxRWYl8hKvrf"
      }
    },
    {
      "cell_type": "code",
      "source": [
        "#@title Cálculo del IMC { run: \"auto\" }\n",
        "Estatura = 1.59 #@param {type:\"number\"}\n",
        "Peso = 65 #@param {type:\"number\"}\n",
        "imc=Peso/Estatura**2\n",
        "print(imc)"
      ],
      "metadata": {
        "colab": {
          "base_uri": "https://localhost:8080/"
        },
        "id": "PM272GDOK2uO",
        "outputId": "194d9bf3-ba99-4423-87bc-ef8a3b7de29e"
      },
      "execution_count": null,
      "outputs": [
        {
          "output_type": "stream",
          "name": "stdout",
          "text": [
            "25.71100826707804\n"
          ]
        }
      ]
    }
  ]
}